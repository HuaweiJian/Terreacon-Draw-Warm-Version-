{
 "cells": [
  {
   "cell_type": "markdown",
   "metadata": {},
   "source": [
    "## B站动态转发抽奖工具（野路子/极简版）\n",
    "\n",
    "\n",
    "## 功能\n",
    "1. 获取所有转发列表里的账号\n",
    "2. 多次转发的用户仅添加一次\n",
    "3. 随机选取指定数量中奖用户\n",
    "\n",
    "### 问题\n",
    "传闻只能爬取API提供的500条转发信息，这个问题我没有花时间测试，因为我们自己的账号只有300多条转发 T_T\n",
    "\n",
    "### 免责\n",
    "这个工具直接使用/间接参考了以下两个来源：\n",
    "\n",
    "1. B站up主 鱼丸子Official \n",
    "https://zhuanlan.zhihu.com/p/136594048(注意：此版本API接口只提供了我最新60个用户)\n",
    "\n",
    "2. CSDN社区Love丶伊卡洛斯\n",
    "https://github.com/FaddeevPopov/Bilibili_Lottery/blob/master/BiliLottery.py\n",
    "\n",
    "### 日期\n",
    "2021年10月18日"
   ]
  },
  {
   "cell_type": "code",
   "execution_count": 1,
   "metadata": {},
   "outputs": [],
   "source": [
    "import requests\n",
    "import json\n",
    "import random"
   ]
  },
  {
   "cell_type": "code",
   "execution_count": 2,
   "metadata": {},
   "outputs": [],
   "source": [
    "def headcount(url):\n",
    "    \"\"\"get total number of users reposted\"\"\"\n",
    "    json_response= requests.get(url).json()\n",
    "\n",
    "    total = json_response[\"data\"][\"total_count\"]\n",
    "    print(\"报！一共有{}名用户转发了此动态\".format(total))\n",
    "    return total"
   ]
  },
  {
   "cell_type": "code",
   "execution_count": 3,
   "metadata": {},
   "outputs": [],
   "source": [
    "def get_one_page(url):\n",
    "    \"\"\"get a single page of user inforamtion(20 per page)\n",
    "       return: [return code, list of [uid,uname]]\n",
    "    \"\"\"\n",
    "    resList = []\n",
    "\n",
    "    # print(response.text)\n",
    "    resJson = requests.get(url).json()\n",
    "\n",
    "    #Return code, return 0 if reposters exist\n",
    "    rescode = resJson['code']\n",
    "    \n",
    "    if rescode == 0:\n",
    "        # get information of the users in one page\n",
    "        try:\n",
    "            items = resJson['data']['comments']\n",
    "            for item in items:\n",
    "                # get user id and user name\n",
    "                userInfo = [item['uid'],item['uname']]\n",
    "                resList.append(userInfo)\n",
    "        except:\n",
    "            return [1, []]\n",
    "    \n",
    "    return [rescode, resList]"
   ]
  },
  {
   "cell_type": "code",
   "execution_count": 4,
   "metadata": {},
   "outputs": [],
   "source": [
    "def get_all_page(url):\n",
    "    \"\"\"get all pages by incrementing offset\"\"\"\n",
    "    \n",
    "    total = headcount(url)\n",
    "\n",
    "    all_uid = []\n",
    "    offset = 0\n",
    "\n",
    "    url = url + \"&offset=\"\n",
    "    while offset <= total:\n",
    "        next_url = url + str(offset)\n",
    "        current_page = get_one_page(next_url)\n",
    "        retCode = current_page[0]\n",
    "        \n",
    "        # make sure no repeated user\n",
    "        for user in current_page[1]:\n",
    "            if user not in all_uid:\n",
    "                all_uid += [user]\n",
    "                \n",
    "        offset += 20\n",
    "    \n",
    "    return all_uid"
   ]
  },
  {
   "cell_type": "code",
   "execution_count": 5,
   "metadata": {},
   "outputs": [],
   "source": [
    "#随机方法，传入UID列表\n",
    "def get_lucky(uidList):\n",
    "    listSize = len(uidList)\n",
    "    luckyNum = random.randint(0, listSize - 1)\n",
    "    return uidList[luckyNum]"
   ]
  },
  {
   "cell_type": "code",
   "execution_count": 6,
   "metadata": {
    "scrolled": true
   },
   "outputs": [],
   "source": [
    "def draw(postid,num):\n",
    "    print('地球灯塔的转盘开始动了！\\n将抽取十名转发用户✧(≖ ◡ ≖✿) ')\n",
    "\n",
    "    # input('输入动态号')\"\"\n",
    "    url = 'https://api.live.bilibili.com/dynamic_repost/v1/dynamic_repost/view_repost?dynamic_id=' + postid\n",
    "    repostList = get_all_page(url)\n",
    "    print('成功获取转发列表')\n",
    "#     generateNum = int(input('输入获奖者人数'))\n",
    "\n",
    "    print('中奖的小伙伴如下')\n",
    "    lucky_dogs = []\n",
    "    for i in range(0, num):\n",
    "        uid_drawn = get_lucky(repostList)\n",
    "        while uid_drawn in lucky_dogs:\n",
    "            uid_drawn = get_lucky(repostList)\n",
    "        lucky_dogs.append(uid_drawn)\n",
    "    #     userPageUrl = 'https://space.bilibili.com/' + str(uidGet[0])\n",
    "        print(\"uid：\" + str(uid_drawn[0]) + \" 用户名：\" + uid_drawn[1])\n"
   ]
  },
  {
   "cell_type": "code",
   "execution_count": 7,
   "metadata": {},
   "outputs": [
    {
     "name": "stdout",
     "output_type": "stream",
     "text": [
      "地球灯塔的转盘开始动了！\n",
      "将抽取十名转发用户✧(≖ ◡ ≖✿) \n",
      "报！一共有364名用户转发了此动态\n",
      "成功获取转发列表\n",
      "中奖的小伙伴如下\n",
      "uid：315576030 用户名：木木林iv\n",
      "uid：309464517 用户名：FingerTy\n",
      "uid：179129619 用户名：木宁-Lin\n",
      "uid：288173707 用户名：梨花想做个鸽手\n",
      "uid：628587483 用户名：I暴风雪号b\n",
      "uid：535918008 用户名：皇帝的新名ㅍ_ㅍ\n",
      "uid：90597882 用户名：伯爵什么时候开强化本\n",
      "uid：155880521 用户名：我已没有硬币改名\n",
      "uid：9526792 用户名：Pangpangtrout\n",
      "uid：5684394 用户名：纵浪大化中\n"
     ]
    }
   ],
   "source": [
    "draw(postid=\"581767751340329244\",num=10)"
   ]
  }
 ],
 "metadata": {
  "kernelspec": {
   "display_name": "Python (NLP)",
   "language": "python",
   "name": "nlp"
  },
  "language_info": {
   "codemirror_mode": {
    "name": "ipython",
    "version": 3
   },
   "file_extension": ".py",
   "mimetype": "text/x-python",
   "name": "python",
   "nbconvert_exporter": "python",
   "pygments_lexer": "ipython3",
   "version": "3.7.4"
  }
 },
 "nbformat": 4,
 "nbformat_minor": 2
}
